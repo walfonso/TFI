{
  "nbformat": 4,
  "nbformat_minor": 0,
  "metadata": {
    "colab": {
      "provenance": [],
      "authorship_tag": "ABX9TyPFqIiTFTLS4PfBocbfH+P7",
      "include_colab_link": true
    },
    "kernelspec": {
      "name": "python3",
      "display_name": "Python 3"
    },
    "language_info": {
      "name": "python"
    }
  },
  "cells": [
    {
      "cell_type": "markdown",
      "metadata": {
        "id": "view-in-github",
        "colab_type": "text"
      },
      "source": [
        "<a href=\"https://colab.research.google.com/github/walfonso/TFI/blob/master/Clasificaci%C3%B3n_de_Candidatos_final.ipynb\" target=\"_parent\"><img src=\"https://colab.research.google.com/assets/colab-badge.svg\" alt=\"Open In Colab\"/></a>"
      ]
    },
    {
      "cell_type": "markdown",
      "source": [
        "# **Modelo AI**\n",
        "# **Clasificación de Candidatos**\n",
        "\n",
        "\n",
        "\n",
        "## **Importación de librerias**\n",
        "\n",
        "\n",
        "\n",
        "**import pandas as pd:** pandas es una biblioteca muy popular en Python para la manipulación y análisis de datos. Se utiliza para trabajar con estructuras de datos tabulares, como DataFrames, que son muy útiles para cargar, limpiar y analizar datos.\n",
        "\n",
        " **import numpy as np:** numpy es una biblioteca esencial para realizar cálculos numéricos en Python. Proporciona matrices y funciones matemáticas  fundamentales en el procesamiento de datos y la implementación de algoritmos de aprendizaje automático.\n",
        "\n",
        "**import tensorflow as tf:** tensorFlow es una biblioteca de código abierto desarrollada por Google que se utiliza para construir y entrenar modelos de aprendizaje automático, especialmente redes neuronales.\n",
        "\n",
        "**from sklearn.model_selection import train_test_split:** scikit-learn es una biblioteca de aprendizaje automático en Python. La función train_test_split se utiliza para dividir un conjunto de datos en conjuntos de entrenamiento y prueba, lo que es esencial para evaluar la capacidad de generalización de un modelo de aprendizaje automático.\n",
        "\n",
        "**from sklearn.preprocessing import StandardScaler:** StandardScaler es una clase de scikit-learn que se utiliza para escalar características (variables) de un conjunto de datos para que tengan una media de 0 y una desviación estándar de 1.\n",
        "\n",
        "**from tensorflow.keras.models import Sequential:** Sequential es una clase proporcionada por TensorFlow que se utiliza para construir modelos de redes neuronales secuenciales, que son modelos en los que las capas se conectan en serie.\n",
        "\n",
        "**from tensorflow.keras.layers import Dense:** Dense es una capa en TensorFlow que se utiliza para construir capas de neuronas completamente conectadas en una red neuronal. Estas capas se utilizan comúnmente en redes neuronales feedforward.\n",
        "\n",
        "**from tensorflow.keras.utils import to_categorical:** to_categorical es una función de TensorFlow que se utiliza para convertir etiquetas categóricas en representación one-hot. Esto es útil cuando estás trabajando con problemas de clasificación y necesitas representar las etiquetas en una forma que sea comprensible para la red neuronal.\n",
        "\n",
        "**import matplotlib.pyplot as plt:** matplotlib es una biblioteca ampliamente utilizada para la visualización de datos en Python. La importación plt es una convención común que se utiliza para abreviar el nombre de matplotlib.pyplot, lo que facilita la creación de gráficos y visualizaciones.\n",
        "\n",
        "\n",
        "\n",
        "\n"
      ],
      "metadata": {
        "id": "tWMMNYUpuIxn"
      }
    },
    {
      "cell_type": "code",
      "source": [
        "import pandas as pd\n",
        "import numpy as np\n",
        "import tensorflow as tf\n",
        "from sklearn.model_selection import train_test_split\n",
        "from sklearn.preprocessing import StandardScaler\n",
        "from tensorflow.keras.models import Sequential\n",
        "from tensorflow.keras.layers import Dense\n",
        "from tensorflow.keras.utils import to_categorical\n",
        "import matplotlib.pyplot as plt\n",
        "import statsmodels.api as sm"
      ],
      "metadata": {
        "id": "Mrou1ijruGrK"
      },
      "execution_count": null,
      "outputs": []
    },
    {
      "cell_type": "markdown",
      "source": [
        "**Luego de importar la biblioteca Pandas utilizando el alias \"pd\".**\n",
        "\n",
        "A traves de la función \"pd.read_excel(\"Datos_Modelo_reducido.xlsx\")\" utilizada para cargar los datos desde un archivo Excel llamado \"Datos_Modelo_reducido.xlsx\". Esta función toma el nombre del archivo como argumento y devuelve un DataFrame que contiene los datos.\n",
        "\n",
        "Se asigna el DataFrame resultante a la variable \"df\". Esto nos permite acceder y manipular los datos de manera conveniente.\n",
        "\n",
        "Finalmente, se utiliza print(df) para mostrar el contenido del DataFrame en la consola. Esto imprimirá los datos del archivo Excel en formato tabular en la salida estándar.\n",
        "\n",
        "\n",
        "Los **outliers** o valores atípicos son puntos de datos que se alejan significativamente del resto de observaciones en un conjunto de datos, ya sea por ser inusualmente grandes o pequeños en comparación con el resto. Pueden surgir por la propia variabilidad del conjunto de datos o por errores de medición o de entrada.\n"
      ],
      "metadata": {
        "id": "44mvpelXxeSp"
      }
    },
    {
      "cell_type": "code",
      "source": [
        "# Cargar los datos desde el archivo Excel\n",
        "df = pd.read_excel(\"Datos_Modelo_reducido.xlsx\")\n",
        "dff= df.drop(['Score', 'Orden'], axis=1)\n",
        "print(dff.head(20))\n",
        "print (dff.dtypes)\n",
        "print (dff.describe())\n",
        "print (\"######  Datos de correlación  ########\")\n",
        "print (\"-1 Correlacion fuerte negativa ## 0 ## 1 Correlación fuerte positiva\")\n",
        "print(dff.corr())\n",
        "corr = dff.corr()\n",
        "#sm.graphics.plot_corr(corr, xnames=list(dff.columns))\n",
        "plt.matshow(corr, cmap=\"Set3\", vmin=-1, vmax=1)\n",
        "plt.xticks(range(5), dff.columns, rotation=90)\n",
        "plt.yticks(range(5), dff.columns)\n",
        "for i in range(len(corr.columns)):\n",
        "  for j in range(len(corr.columns)):\n",
        "      plt.text(i, j, round(corr.iloc[i, j], 2), fontsize=8, ha=\"center\", va=\"center\")\n",
        "plt.colorbar()\n",
        "plt.show()\n",
        "\n",
        "\n",
        "print (\"######  Inicio Experiencia  ########\")\n",
        "print (dff['Experiencia'].describe())\n",
        "print (\"######  Fin Experiencia  ########\")\n",
        "plt.scatter(df.Experiencia, df.Score, c=\"g\", s=100, marker=r\".\", alpha=0.9, label=\"Var\")\n",
        "plt.xlabel(\"Score\")\n",
        "plt.ylabel(\"Candidato\")\n",
        "plt.title(\"Grafico de Dispersión\")\n",
        "plt.legend(loc=\"upper left\")\n",
        "plt.show()\n",
        "\n",
        "# Indentifico los grupos de datos: 3 grupos\n"
      ],
      "metadata": {
        "id": "ydhjxR2azGDY",
        "colab": {
          "base_uri": "https://localhost:8080/",
          "height": 390
        },
        "outputId": "09919cf6-55fa-41e2-be3e-b5c82f8fb4a7"
      },
      "execution_count": null,
      "outputs": [
        {
          "output_type": "error",
          "ename": "FileNotFoundError",
          "evalue": "[Errno 2] No such file or directory: 'Datos_Modelo_reducido.xlsx'",
          "traceback": [
            "\u001b[0;31m---------------------------------------------------------------------------\u001b[0m",
            "\u001b[0;31mFileNotFoundError\u001b[0m                         Traceback (most recent call last)",
            "\u001b[0;32m<ipython-input-4-0f5724a80b14>\u001b[0m in \u001b[0;36m<cell line: 2>\u001b[0;34m()\u001b[0m\n\u001b[1;32m      1\u001b[0m \u001b[0;31m# Cargar los datos desde el archivo Excel\u001b[0m\u001b[0;34m\u001b[0m\u001b[0;34m\u001b[0m\u001b[0m\n\u001b[0;32m----> 2\u001b[0;31m \u001b[0mdf\u001b[0m \u001b[0;34m=\u001b[0m \u001b[0mpd\u001b[0m\u001b[0;34m.\u001b[0m\u001b[0mread_excel\u001b[0m\u001b[0;34m(\u001b[0m\u001b[0;34m\"Datos_Modelo_reducido.xlsx\"\u001b[0m\u001b[0;34m)\u001b[0m\u001b[0;34m\u001b[0m\u001b[0;34m\u001b[0m\u001b[0m\n\u001b[0m\u001b[1;32m      3\u001b[0m \u001b[0mdff\u001b[0m\u001b[0;34m=\u001b[0m \u001b[0mdf\u001b[0m\u001b[0;34m.\u001b[0m\u001b[0mdrop\u001b[0m\u001b[0;34m(\u001b[0m\u001b[0;34m[\u001b[0m\u001b[0;34m'Score'\u001b[0m\u001b[0;34m,\u001b[0m \u001b[0;34m'Orden'\u001b[0m\u001b[0;34m]\u001b[0m\u001b[0;34m,\u001b[0m \u001b[0maxis\u001b[0m\u001b[0;34m=\u001b[0m\u001b[0;36m1\u001b[0m\u001b[0;34m)\u001b[0m\u001b[0;34m\u001b[0m\u001b[0;34m\u001b[0m\u001b[0m\n\u001b[1;32m      4\u001b[0m \u001b[0mprint\u001b[0m\u001b[0;34m(\u001b[0m\u001b[0mdff\u001b[0m\u001b[0;34m.\u001b[0m\u001b[0mhead\u001b[0m\u001b[0;34m(\u001b[0m\u001b[0;36m20\u001b[0m\u001b[0;34m)\u001b[0m\u001b[0;34m)\u001b[0m\u001b[0;34m\u001b[0m\u001b[0;34m\u001b[0m\u001b[0m\n\u001b[1;32m      5\u001b[0m \u001b[0mprint\u001b[0m \u001b[0;34m(\u001b[0m\u001b[0mdff\u001b[0m\u001b[0;34m.\u001b[0m\u001b[0mdtypes\u001b[0m\u001b[0;34m)\u001b[0m\u001b[0;34m\u001b[0m\u001b[0;34m\u001b[0m\u001b[0m\n",
            "\u001b[0;32m/usr/local/lib/python3.10/dist-packages/pandas/util/_decorators.py\u001b[0m in \u001b[0;36mwrapper\u001b[0;34m(*args, **kwargs)\u001b[0m\n\u001b[1;32m    209\u001b[0m                 \u001b[0;32melse\u001b[0m\u001b[0;34m:\u001b[0m\u001b[0;34m\u001b[0m\u001b[0;34m\u001b[0m\u001b[0m\n\u001b[1;32m    210\u001b[0m                     \u001b[0mkwargs\u001b[0m\u001b[0;34m[\u001b[0m\u001b[0mnew_arg_name\u001b[0m\u001b[0;34m]\u001b[0m \u001b[0;34m=\u001b[0m \u001b[0mnew_arg_value\u001b[0m\u001b[0;34m\u001b[0m\u001b[0;34m\u001b[0m\u001b[0m\n\u001b[0;32m--> 211\u001b[0;31m             \u001b[0;32mreturn\u001b[0m \u001b[0mfunc\u001b[0m\u001b[0;34m(\u001b[0m\u001b[0;34m*\u001b[0m\u001b[0margs\u001b[0m\u001b[0;34m,\u001b[0m \u001b[0;34m**\u001b[0m\u001b[0mkwargs\u001b[0m\u001b[0;34m)\u001b[0m\u001b[0;34m\u001b[0m\u001b[0;34m\u001b[0m\u001b[0m\n\u001b[0m\u001b[1;32m    212\u001b[0m \u001b[0;34m\u001b[0m\u001b[0m\n\u001b[1;32m    213\u001b[0m         \u001b[0;32mreturn\u001b[0m \u001b[0mcast\u001b[0m\u001b[0;34m(\u001b[0m\u001b[0mF\u001b[0m\u001b[0;34m,\u001b[0m \u001b[0mwrapper\u001b[0m\u001b[0;34m)\u001b[0m\u001b[0;34m\u001b[0m\u001b[0;34m\u001b[0m\u001b[0m\n",
            "\u001b[0;32m/usr/local/lib/python3.10/dist-packages/pandas/util/_decorators.py\u001b[0m in \u001b[0;36mwrapper\u001b[0;34m(*args, **kwargs)\u001b[0m\n\u001b[1;32m    329\u001b[0m                     \u001b[0mstacklevel\u001b[0m\u001b[0;34m=\u001b[0m\u001b[0mfind_stack_level\u001b[0m\u001b[0;34m(\u001b[0m\u001b[0;34m)\u001b[0m\u001b[0;34m,\u001b[0m\u001b[0;34m\u001b[0m\u001b[0;34m\u001b[0m\u001b[0m\n\u001b[1;32m    330\u001b[0m                 )\n\u001b[0;32m--> 331\u001b[0;31m             \u001b[0;32mreturn\u001b[0m \u001b[0mfunc\u001b[0m\u001b[0;34m(\u001b[0m\u001b[0;34m*\u001b[0m\u001b[0margs\u001b[0m\u001b[0;34m,\u001b[0m \u001b[0;34m**\u001b[0m\u001b[0mkwargs\u001b[0m\u001b[0;34m)\u001b[0m\u001b[0;34m\u001b[0m\u001b[0;34m\u001b[0m\u001b[0m\n\u001b[0m\u001b[1;32m    332\u001b[0m \u001b[0;34m\u001b[0m\u001b[0m\n\u001b[1;32m    333\u001b[0m         \u001b[0;31m# error: \"Callable[[VarArg(Any), KwArg(Any)], Any]\" has no\u001b[0m\u001b[0;34m\u001b[0m\u001b[0;34m\u001b[0m\u001b[0m\n",
            "\u001b[0;32m/usr/local/lib/python3.10/dist-packages/pandas/io/excel/_base.py\u001b[0m in \u001b[0;36mread_excel\u001b[0;34m(io, sheet_name, header, names, index_col, usecols, squeeze, dtype, engine, converters, true_values, false_values, skiprows, nrows, na_values, keep_default_na, na_filter, verbose, parse_dates, date_parser, thousands, decimal, comment, skipfooter, convert_float, mangle_dupe_cols, storage_options)\u001b[0m\n\u001b[1;32m    480\u001b[0m     \u001b[0;32mif\u001b[0m \u001b[0;32mnot\u001b[0m \u001b[0misinstance\u001b[0m\u001b[0;34m(\u001b[0m\u001b[0mio\u001b[0m\u001b[0;34m,\u001b[0m \u001b[0mExcelFile\u001b[0m\u001b[0;34m)\u001b[0m\u001b[0;34m:\u001b[0m\u001b[0;34m\u001b[0m\u001b[0;34m\u001b[0m\u001b[0m\n\u001b[1;32m    481\u001b[0m         \u001b[0mshould_close\u001b[0m \u001b[0;34m=\u001b[0m \u001b[0;32mTrue\u001b[0m\u001b[0;34m\u001b[0m\u001b[0;34m\u001b[0m\u001b[0m\n\u001b[0;32m--> 482\u001b[0;31m         \u001b[0mio\u001b[0m \u001b[0;34m=\u001b[0m \u001b[0mExcelFile\u001b[0m\u001b[0;34m(\u001b[0m\u001b[0mio\u001b[0m\u001b[0;34m,\u001b[0m \u001b[0mstorage_options\u001b[0m\u001b[0;34m=\u001b[0m\u001b[0mstorage_options\u001b[0m\u001b[0;34m,\u001b[0m \u001b[0mengine\u001b[0m\u001b[0;34m=\u001b[0m\u001b[0mengine\u001b[0m\u001b[0;34m)\u001b[0m\u001b[0;34m\u001b[0m\u001b[0;34m\u001b[0m\u001b[0m\n\u001b[0m\u001b[1;32m    483\u001b[0m     \u001b[0;32melif\u001b[0m \u001b[0mengine\u001b[0m \u001b[0;32mand\u001b[0m \u001b[0mengine\u001b[0m \u001b[0;34m!=\u001b[0m \u001b[0mio\u001b[0m\u001b[0;34m.\u001b[0m\u001b[0mengine\u001b[0m\u001b[0;34m:\u001b[0m\u001b[0;34m\u001b[0m\u001b[0;34m\u001b[0m\u001b[0m\n\u001b[1;32m    484\u001b[0m         raise ValueError(\n",
            "\u001b[0;32m/usr/local/lib/python3.10/dist-packages/pandas/io/excel/_base.py\u001b[0m in \u001b[0;36m__init__\u001b[0;34m(self, path_or_buffer, engine, storage_options)\u001b[0m\n\u001b[1;32m   1650\u001b[0m                 \u001b[0mext\u001b[0m \u001b[0;34m=\u001b[0m \u001b[0;34m\"xls\"\u001b[0m\u001b[0;34m\u001b[0m\u001b[0;34m\u001b[0m\u001b[0m\n\u001b[1;32m   1651\u001b[0m             \u001b[0;32melse\u001b[0m\u001b[0;34m:\u001b[0m\u001b[0;34m\u001b[0m\u001b[0;34m\u001b[0m\u001b[0m\n\u001b[0;32m-> 1652\u001b[0;31m                 ext = inspect_excel_format(\n\u001b[0m\u001b[1;32m   1653\u001b[0m                     \u001b[0mcontent_or_path\u001b[0m\u001b[0;34m=\u001b[0m\u001b[0mpath_or_buffer\u001b[0m\u001b[0;34m,\u001b[0m \u001b[0mstorage_options\u001b[0m\u001b[0;34m=\u001b[0m\u001b[0mstorage_options\u001b[0m\u001b[0;34m\u001b[0m\u001b[0;34m\u001b[0m\u001b[0m\n\u001b[1;32m   1654\u001b[0m                 )\n",
            "\u001b[0;32m/usr/local/lib/python3.10/dist-packages/pandas/io/excel/_base.py\u001b[0m in \u001b[0;36minspect_excel_format\u001b[0;34m(content_or_path, storage_options)\u001b[0m\n\u001b[1;32m   1523\u001b[0m         \u001b[0mcontent_or_path\u001b[0m \u001b[0;34m=\u001b[0m \u001b[0mBytesIO\u001b[0m\u001b[0;34m(\u001b[0m\u001b[0mcontent_or_path\u001b[0m\u001b[0;34m)\u001b[0m\u001b[0;34m\u001b[0m\u001b[0;34m\u001b[0m\u001b[0m\n\u001b[1;32m   1524\u001b[0m \u001b[0;34m\u001b[0m\u001b[0m\n\u001b[0;32m-> 1525\u001b[0;31m     with get_handle(\n\u001b[0m\u001b[1;32m   1526\u001b[0m         \u001b[0mcontent_or_path\u001b[0m\u001b[0;34m,\u001b[0m \u001b[0;34m\"rb\"\u001b[0m\u001b[0;34m,\u001b[0m \u001b[0mstorage_options\u001b[0m\u001b[0;34m=\u001b[0m\u001b[0mstorage_options\u001b[0m\u001b[0;34m,\u001b[0m \u001b[0mis_text\u001b[0m\u001b[0;34m=\u001b[0m\u001b[0;32mFalse\u001b[0m\u001b[0;34m\u001b[0m\u001b[0;34m\u001b[0m\u001b[0m\n\u001b[1;32m   1527\u001b[0m     ) as handle:\n",
            "\u001b[0;32m/usr/local/lib/python3.10/dist-packages/pandas/io/common.py\u001b[0m in \u001b[0;36mget_handle\u001b[0;34m(path_or_buf, mode, encoding, compression, memory_map, is_text, errors, storage_options)\u001b[0m\n\u001b[1;32m    863\u001b[0m         \u001b[0;32melse\u001b[0m\u001b[0;34m:\u001b[0m\u001b[0;34m\u001b[0m\u001b[0;34m\u001b[0m\u001b[0m\n\u001b[1;32m    864\u001b[0m             \u001b[0;31m# Binary mode\u001b[0m\u001b[0;34m\u001b[0m\u001b[0;34m\u001b[0m\u001b[0m\n\u001b[0;32m--> 865\u001b[0;31m             \u001b[0mhandle\u001b[0m \u001b[0;34m=\u001b[0m \u001b[0mopen\u001b[0m\u001b[0;34m(\u001b[0m\u001b[0mhandle\u001b[0m\u001b[0;34m,\u001b[0m \u001b[0mioargs\u001b[0m\u001b[0;34m.\u001b[0m\u001b[0mmode\u001b[0m\u001b[0;34m)\u001b[0m\u001b[0;34m\u001b[0m\u001b[0;34m\u001b[0m\u001b[0m\n\u001b[0m\u001b[1;32m    866\u001b[0m         \u001b[0mhandles\u001b[0m\u001b[0;34m.\u001b[0m\u001b[0mappend\u001b[0m\u001b[0;34m(\u001b[0m\u001b[0mhandle\u001b[0m\u001b[0;34m)\u001b[0m\u001b[0;34m\u001b[0m\u001b[0;34m\u001b[0m\u001b[0m\n\u001b[1;32m    867\u001b[0m \u001b[0;34m\u001b[0m\u001b[0m\n",
            "\u001b[0;31mFileNotFoundError\u001b[0m: [Errno 2] No such file or directory: 'Datos_Modelo_reducido.xlsx'"
          ]
        }
      ]
    },
    {
      "cell_type": "markdown",
      "source": [
        "# **Definir las características (entradas) y las etiquetas (salida)**\n",
        "\n",
        "---\n",
        "\n",
        "\n",
        "\n",
        "**Caracteristica: Experiencia**\n",
        "\n",
        "![image.png](data:image/png;base64,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)\n",
        "\n",
        "**Caracteristica: Idioma**\n",
        "\n",
        "![image.png](data:image/png;base64,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)\n",
        "\n",
        "\n",
        "![image.png](data:image/png;base64,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)\n",
        "\n",
        "\n",
        "Clasificación\n",
        "\n",
        "```\n",
        ",,,Puntaje\n",
        "Muy Bueno,,,3\n",
        "Bueno,,,2\n",
        "Regular,,,1\n",
        "```\n",
        "\n",
        "https://es.wikipedia.org/wiki/One-hot\n",
        "\n",
        "Binario\tCódigo Gray\tOne-hot\n",
        "000\t    000\t        00000001\n",
        "001\t    001\t        00000010\n",
        "010\t    011\t        00000100\n",
        "011\t    010\t        00001000\n",
        "100\t    110\t        00010000\n",
        "101\t    111\t        00100000\n",
        "110\t    101\t        01000000\n",
        "111\t    100\t        10000000\n"
      ],
      "metadata": {
        "id": "H5zNSBRSzq1V"
      }
    },
    {
      "cell_type": "code",
      "source": [
        "# Definir las características (entradas) y las etiquetas (salida)\n",
        "X = df[['Experiencia', 'Idioma', 'VE', 'FyS']].values\n",
        "y = df['Candidato'].values\n",
        "\n",
        "print (\"------ sin cat\")\n",
        "print(y)\n",
        "print (\"------ FIN -----\")\n",
        "\n",
        "# Convertir las etiquetas a una representación one-hot\n",
        "y = to_categorical(y - 1)  # Restar 1 para convertir las etiquetas 1, 2, 3 a 0, 1, 2 y luego a one-hot\n",
        "print (\"------ Y\")\n",
        "print(y)\n",
        "\n",
        "# Dividir los datos en conjuntos de entrenamiento y prueba\n",
        "X_train, X_test, y_train, y_test = train_test_split(X, y, test_size=0.2, random_state=42)\n",
        "print(\"------Antes----\")\n",
        "print(X_test)\n",
        "# Estandarizar los datos\n",
        "#scaler = StandardScaler()\n",
        "#X_train = scaler.fit_transform(X_train)\n",
        "#X_test = scaler.transform(X_test)\n",
        "print(\"------Despues---\")\n",
        "print(X_test)"
      ],
      "metadata": {
        "id": "ag4CNvoD0aWW",
        "colab": {
          "base_uri": "https://localhost:8080/"
        },
        "outputId": "a7fcaa2d-f968-4b79-eb03-c647abbf4e43"
      },
      "execution_count": null,
      "outputs": [
        {
          "output_type": "stream",
          "name": "stdout",
          "text": [
            "------ sin cat\n",
            "[1 1 2 ... 2 3 2]\n",
            "------ FIN -----\n",
            "------ Y\n",
            "[[1. 0. 0.]\n",
            " [1. 0. 0.]\n",
            " [0. 1. 0.]\n",
            " ...\n",
            " [0. 1. 0.]\n",
            " [0. 0. 1.]\n",
            " [0. 1. 0.]]\n",
            "------Antes----\n",
            "[[ 8 10  0  0]\n",
            " [ 8 10  0  1]\n",
            " [ 6  5  0  0]\n",
            " ...\n",
            " [ 8  5  1  1]\n",
            " [10  0  1  1]\n",
            " [ 0  5  0  0]]\n",
            "------Despues---\n",
            "[[ 8 10  0  0]\n",
            " [ 8 10  0  1]\n",
            " [ 6  5  0  0]\n",
            " ...\n",
            " [ 8  5  1  1]\n",
            " [10  0  1  1]\n",
            " [ 0  5  0  0]]\n"
          ]
        }
      ]
    },
    {
      "cell_type": "markdown",
      "source": [],
      "metadata": {
        "id": "9jFABQ0waUUI"
      }
    },
    {
      "cell_type": "markdown",
      "source": [
        "# **Construir el modelo**\n",
        "\n",
        "**Explicación:**\n",
        "\n",
        "**1- Definición de la red neuronal**\n",
        "\n",
        "Se importa TensorFlow, que es una biblioteca de aprendizaje automático y se utiliza para construir modelos de redes neuronales, y la clase Sequential de Keras. Sequential es una forma de construir modelos de redes neuronales capa por capa en la que las capas se apilan en serie.\n",
        "\n",
        "Se crea una instancia del modelo utilizando Sequential(). Se inicializa un modelo vacío, al que se le agregarán capas.\n",
        "\n",
        "Se agrega la **primera capa densa** (totalmente conectada) al modelo con modelo.add(...). Esta capa tiene 100 neuronas y utiliza la función de activación ReLU (Rectified Linear Unit). También especificamos la forma de entrada utilizando input_shape, que se ajusta a la cantidad de características en X_train, los datos de entrenamiento.\n",
        "\n",
        "Se agrega una **segunda capa densa** con 100 neuronas y función de activación ReLU. No es necesario especificar input_shape en esta capa, ya que Keras infiere automáticamente la forma de entrada de la capa anterior.\n",
        "\n",
        "Finalmente, se agrega **la capa de salida** con 3 neuronas y la función de activación softmax. La función softmax se utiliza comúnmente en problemas de clasificación multiclase para generar probabilidades de pertenencia a cada clase.\n",
        "\n",
        "La función **modelo.summary()** imprime un resumen del modelo en la consola, que muestra las capas, el número de parámetros en cada capa y la forma de salida de cada capa. Esto es útil para comprender la arquitectura del modelo y verificar que se haya definido correctamente.\n",
        "\n",
        "\n",
        "\n",
        "\n",
        "\n",
        "---\n",
        "\n",
        "\n",
        "**2- Compilación del modelo**\n",
        "El código compila un modelo de aprendizaje automático para la clasificación multiclase, especificando la función de pérdida, el optimizador y la métrica de precisión, y luego entrena el modelo durante 20 épocas utilizando los datos de entrenamiento.\n",
        "  \n",
        "***El método compile se utiliza para definir ciertos aspectos clave del modelo, que incluyen:***\n",
        "\n",
        ">**a- loss='categorical_crossentropy':** Esto establece la función de pérdida que se utilizará para evaluar cuán bien se está desempeñando el modelo durante el entrenamiento. En este caso, categorical_crossentropy es una función de pérdida comúnmente usada en problemas de clasificación multiclase. Mide la discrepancia entre las predicciones del modelo y las etiquetas reales de los datos de entrenamiento.\n",
        "\n",
        ">**b- optimizer='adam':** Se especifica el algoritmo de optimización que se utilizará para ajustar los pesos del modelo durante el entrenamiento. 'Adam' es un optimizador popular que se adapta de manera eficiente a diferentes tasas de aprendizaje en cada parámetro del modelo.\n",
        "\n",
        ">**c- metrics=['accuracy']:** Aquí se define una métrica para evaluar el rendimiento del modelo durante el entrenamiento. En este caso, se está utilizando la métrica de precisión ('accuracy') para medir con qué precisión el modelo predice las clases de los datos de entrenamiento.\n",
        "\n",
        "\n",
        "\n"
      ],
      "metadata": {
        "id": "bSmEslID0mP0"
      }
    },
    {
      "cell_type": "markdown",
      "source": [
        "Capa 1        Capa 2            Epoch        Accuracy  \n",
        "\n",
        "10              10                 30            99\n",
        "\n",
        "100           100                  20            99\n",
        "\n",
        "\n",
        "**X_train:** Este es el conjunto de datos de entrenamiento que contiene las características de tus ejemplos de entrenamiento. Cada fila de X_train generalmente representa un ejemplo de entrada.\n",
        "\n",
        "y**_train:** Este es el conjunto de etiquetas (objetivo) correspondiente a tus ejemplos de entrenamiento en X_train. Cada elemento de y_train se asocia con una fila de X_train y contiene la etiqueta (o salida deseada) para ese ejemplo.\n",
        "\n",
        "**epochs:** Es el número de épocas (iteraciones completas a través de todo el conjunto de datos de entrenamiento) que el modelo se entrenará. En tu caso, se han especificado 30 épocas.\n",
        "\n",
        "**batch_size:** Define el tamaño del lote de datos que se utilizará en cada paso de entrenamiento. En este caso, se utiliza un tamaño de lote de 32, lo que significa que se procesarán 32 ejemplos a la vez antes de actualizar los pesos del modelo.\n",
        "\n",
        "**verbose:** Controla la cantidad de información que se mostrará durante el entrenamiento. Un valor de 1 generalmente significa que se mostrará información de progreso durante el entrenamiento.\n",
        "\n",
        "\n",
        "**Algunos puntos clave sobre cómo funciona epochs en el entrenamiento de un modelo:**\n",
        "\n",
        "**Inicio:** Al comienzo del entrenamiento, los pesos del modelo generalmente se inicializan de forma aleatoria.\n",
        "\n",
        "**Iteraciones:** Durante cada época, el modelo pasa por cada ejemplo de entrenamiento en el conjunto de datos, realiza una predicción, calcula la pérdida y ajusta los pesos para minimizar esa pérdida.\n",
        "\n",
        "**Actualización de pesos:** Los algoritmos de optimización, como el descenso de gradiente, se utilizan para ajustar los pesos del modelo de manera que se reduzca la función de pérdida. Cuantas más épocas se realicen, más oportunidades tendrá el modelo de ajustar sus pesos y mejorar su rendimiento.\n",
        "\n",
        "**Convergencia:** El entrenamiento continúa durante el número especificado de épocas o hasta que se alcance algún criterio de detención (por ejemplo, si la pérdida deja de disminuir significativamente). Si la pérdida sigue disminuyendo con cada época, el modelo está mejorando. Sin embargo, es importante encontrar un equilibrio, ya que el sobreajuste puede ocurrir si se entrena durante demasiadas épocas.\n",
        "\n",
        "El valor óptimo para epochs puede variar según el problema y el conjunto de datos. En algunos casos, se puede determinar automáticamente utilizando técnicas como la validación cruzada. Un valor muy bajo puede resultar en un modelo subentrenado, mientras que un valor muy alto puede llevar al sobreajuste. En la práctica, a menudo se utiliza una combinación de validación cruzada y observación del rendimiento del modelo en un conjunto de validación para determinar el número óptimo de épocas."
      ],
      "metadata": {
        "id": "2Lch2XxzYXqP"
      }
    },
    {
      "cell_type": "code",
      "source": [
        "# Construir el modelo de red neuronal\n",
        "modelo = Sequential()\n",
        "modelo.add(Dense(32, activation='relu', input_shape=(4,))) #X_train.shape[1]\n",
        "modelo.add(Dense(16, activation='relu'))\n",
        "modelo.add(Dense(3, activation='softmax'))  # Función de activación softmax para clasificación multiclase\n",
        "modelo.summary()\n",
        "\n",
        "# Compilar el modelo\n",
        "modelo.compile(loss='categorical_crossentropy', optimizer='adam', metrics=['accuracy'])  # Función de pérdida categorical_crossentropy para clasificación multiclase\n",
        "\n",
        "# Entrenar el modelo\n",
        "print(\"Comenzando el entrenamiento...\")\n",
        "historial = modelo.fit(X_train, y_train, epochs=20, batch_size=32, verbose=1)\n",
        "print(\"Modelo entrenado!\")\n",
        "\n",
        "weights, biases = modelo.layers[0].get_weights()\n",
        "# Muestra los pesos\n",
        "print(\"Pesos de la primera capa:\")\n",
        "print(weights)\n",
        "\n",
        "# Muestra los sesgos\n",
        "print(\"Sesgos de la primera capa:\")\n",
        "print(biases)\n",
        "print(\"########################\")\n",
        "\n",
        "# Graficar la pérdida\n",
        "plt.xlabel(\"# Epoca\")\n",
        "plt.ylabel(\"Magnitud de pérdida\")\n",
        "plt.plot(historial.history[\"loss\"])\n",
        "plt.show()\n",
        "\n",
        "# Evaluación del modelo\n",
        "loss, accuracy = modelo.evaluate(X_test, y_test)\n",
        "print(\"Pérdida en los datos de prueba:\", loss)\n",
        "print(\"Precisión en los datos de prueba:\", accuracy)\n",
        "\n",
        "\n"
      ],
      "metadata": {
        "id": "e1a8Tox22dkD",
        "colab": {
          "base_uri": "https://localhost:8080/",
          "height": 1000
        },
        "outputId": "24cf50af-af91-4832-e125-87146cfd19da"
      },
      "execution_count": null,
      "outputs": [
        {
          "output_type": "stream",
          "name": "stdout",
          "text": [
            "Model: \"sequential_6\"\n",
            "_________________________________________________________________\n",
            " Layer (type)                Output Shape              Param #   \n",
            "=================================================================\n",
            " dense_18 (Dense)            (None, 32)                160       \n",
            "                                                                 \n",
            " dense_19 (Dense)            (None, 16)                528       \n",
            "                                                                 \n",
            " dense_20 (Dense)            (None, 3)                 51        \n",
            "                                                                 \n",
            "=================================================================\n",
            "Total params: 739 (2.89 KB)\n",
            "Trainable params: 739 (2.89 KB)\n",
            "Non-trainable params: 0 (0.00 Byte)\n",
            "_________________________________________________________________\n",
            "Comenzando el entrenamiento...\n",
            "Epoch 1/20\n",
            "38/38 [==============================] - 1s 3ms/step - loss: 1.2360 - accuracy: 0.3518\n",
            "Epoch 2/20\n",
            "38/38 [==============================] - 0s 3ms/step - loss: 0.9718 - accuracy: 0.5054\n",
            "Epoch 3/20\n",
            "38/38 [==============================] - 0s 3ms/step - loss: 0.9046 - accuracy: 0.5277\n",
            "Epoch 4/20\n",
            "38/38 [==============================] - 0s 3ms/step - loss: 0.8353 - accuracy: 0.6647\n",
            "Epoch 5/20\n",
            "38/38 [==============================] - 0s 3ms/step - loss: 0.7361 - accuracy: 0.7977\n",
            "Epoch 6/20\n",
            "38/38 [==============================] - 0s 2ms/step - loss: 0.6233 - accuracy: 0.8481\n",
            "Epoch 7/20\n",
            "38/38 [==============================] - 0s 2ms/step - loss: 0.5103 - accuracy: 0.8976\n",
            "Epoch 8/20\n",
            "38/38 [==============================] - 0s 2ms/step - loss: 0.4116 - accuracy: 0.9579\n",
            "Epoch 9/20\n",
            "38/38 [==============================] - 0s 2ms/step - loss: 0.3302 - accuracy: 0.9612\n",
            "Epoch 10/20\n",
            "38/38 [==============================] - 0s 2ms/step - loss: 0.2704 - accuracy: 0.9620\n",
            "Epoch 11/20\n",
            "38/38 [==============================] - 0s 2ms/step - loss: 0.2298 - accuracy: 0.9670\n",
            "Epoch 12/20\n",
            "38/38 [==============================] - 0s 2ms/step - loss: 0.1878 - accuracy: 0.9670\n",
            "Epoch 13/20\n",
            "38/38 [==============================] - 0s 2ms/step - loss: 0.1634 - accuracy: 0.9727\n",
            "Epoch 14/20\n",
            "38/38 [==============================] - 0s 2ms/step - loss: 0.1387 - accuracy: 0.9769\n",
            "Epoch 15/20\n",
            "38/38 [==============================] - 0s 2ms/step - loss: 0.1247 - accuracy: 0.9686\n",
            "Epoch 16/20\n",
            "38/38 [==============================] - 0s 2ms/step - loss: 0.1065 - accuracy: 0.9810\n",
            "Epoch 17/20\n",
            "38/38 [==============================] - 0s 2ms/step - loss: 0.0942 - accuracy: 0.9851\n",
            "Epoch 18/20\n",
            "38/38 [==============================] - 0s 2ms/step - loss: 0.0869 - accuracy: 0.9818\n",
            "Epoch 19/20\n",
            "38/38 [==============================] - 0s 2ms/step - loss: 0.0762 - accuracy: 0.9967\n",
            "Epoch 20/20\n",
            "38/38 [==============================] - 0s 2ms/step - loss: 0.0699 - accuracy: 0.9950\n",
            "Modelo entrenado!\n",
            "Pesos de la primera capa:\n",
            "[[ 0.15635304 -0.13244236 -0.3573599  -0.24729519 -0.3563617  -0.08936433\n",
            "   0.3188614   0.13262555  0.24161153  0.04170175  0.00493476 -0.36154443\n",
            "  -0.35848883  0.18281403  0.25462687 -0.04703271 -0.34496865  0.04338913\n",
            "   0.14987192  0.04524354  0.05706906 -0.02759865  0.25436014 -0.42837423\n",
            "   0.0692523  -0.31128514 -0.18029453 -0.00899248 -0.28838176 -0.2592639\n",
            "   0.36809367  0.38449785]\n",
            " [-0.16956873 -0.28741682  0.3528637  -0.00379428  0.20972337  0.38980138\n",
            "   0.253982   -0.17099062  0.24331763  0.34753153  0.14481746 -0.45782685\n",
            "  -0.34718224 -0.3457505   0.27079016  0.14313506 -0.06443042  0.03508874\n",
            "  -0.2837647   0.04352837  0.04224565 -0.13719681  0.02666908 -0.656475\n",
            "  -0.05321324  0.31031966  0.3553228  -0.00472751  0.32634673 -0.20397845\n",
            "   0.35232383 -0.393992  ]\n",
            " [-0.42541826 -0.32509577  0.3444981  -0.07218805  0.6380702   0.5538312\n",
            "   0.28014722 -0.01419885 -0.49622965 -0.3215171  -0.6288201   0.17325886\n",
            "  -0.15403053  0.5612538  -0.22302169  0.12605035  0.14501299  0.6116846\n",
            "   0.2977614   0.6678745   0.5549131  -0.17552072  0.28706557  0.5167858\n",
            "  -0.48197252 -0.23908834  0.21792835  0.5254443  -0.43113515  0.27331614\n",
            "   0.03013955 -0.5105997 ]\n",
            " [-0.15339775 -0.15683484 -0.08583768 -0.1159021   0.32327905  0.21967602\n",
            "  -0.20445509 -0.00678052 -0.45991284 -0.4047706   0.07193086  0.3198189\n",
            "   0.01446005  0.6098151   0.4587767  -0.09535828  0.23375502  0.45409316\n",
            "   0.20728035  0.57404375  0.39965335 -0.02729732  0.5768149   0.41271934\n",
            "  -0.48847055  0.38827848  0.45151666 -0.8724074  -0.5005671   0.25900167\n",
            "   0.46249574 -0.28523186]]\n",
            "Sesgos de la primera capa:\n",
            "[ 0.254372    0.          0.1554527   0.         -0.02202385 -0.10406982\n",
            " -0.11306725  0.44183263  0.31197435 -0.01604318  0.5243741   0.42123416\n",
            " -0.02473099 -0.0474589  -0.06355877 -0.13185245  0.24810408 -0.30432346\n",
            " -0.08579755 -0.3064396  -0.26013714  0.         -0.24946365  0.38376656\n",
            "  0.3011102   0.1775322  -0.20481075  0.3992735   0.06347248  0.14525996\n",
            "  0.2752702   0.3226024 ]\n",
            "########################\n"
          ]
        },
        {
          "output_type": "display_data",
          "data": {
            "text/plain": [
              "<Figure size 640x480 with 1 Axes>"
            ],
            "image/png": "[encoded data removed]"
          },
          "metadata": {}
        },
        {
          "output_type": "stream",
          "name": "stdout",
          "text": [
            "10/10 [==============================] - 0s 5ms/step - loss: 0.0673 - accuracy: 0.9934\n",
            "Pérdida en los datos de prueba: 0.0672653466463089\n",
            "Precisión en los datos de prueba: 0.9933993220329285\n"
          ]
        }
      ]
    },
    {
      "cell_type": "code",
      "execution_count": null,
      "metadata": {
        "colab": {
          "base_uri": "https://localhost:8080/",
          "height": 220
        },
        "id": "D0n1oSuqtFUB",
        "outputId": "144ad652-f2ad-4c84-b9f6-c7e66a85d919"
      },
      "outputs": [
        {
          "output_type": "error",
          "ename": "NameError",
          "evalue": "name 'np' is not defined",
          "traceback": [
            "\u001b[0;31m---------------------------------------------------------------------------\u001b[0m",
            "\u001b[0;31mNameError\u001b[0m                                 Traceback (most recent call last)",
            "\u001b[0;32m<ipython-input-2-0c546e6d937e>\u001b[0m in \u001b[0;36m<cell line: 5>\u001b[0;34m()\u001b[0m\n\u001b[1;32m      3\u001b[0m \u001b[0;31m#print(X_test)\u001b[0m\u001b[0;34m\u001b[0m\u001b[0;34m\u001b[0m\u001b[0m\n\u001b[1;32m      4\u001b[0m \u001b[0;34m\u001b[0m\u001b[0m\n\u001b[0;32m----> 5\u001b[0;31m \u001b[0mnuevo_candidato\u001b[0m \u001b[0;34m=\u001b[0m \u001b[0mnp\u001b[0m\u001b[0;34m.\u001b[0m\u001b[0marray\u001b[0m\u001b[0;34m(\u001b[0m\u001b[0;34m[\u001b[0m\u001b[0;34m[\u001b[0m\u001b[0;36m6\u001b[0m\u001b[0;34m,\u001b[0m \u001b[0;36m5\u001b[0m\u001b[0;34m,\u001b[0m \u001b[0;36m1\u001b[0m\u001b[0;34m,\u001b[0m \u001b[0;36m0\u001b[0m\u001b[0;34m]\u001b[0m\u001b[0;34m]\u001b[0m\u001b[0;34m)\u001b[0m  \u001b[0;31m# Ejemplo de nuevo candidato\u001b[0m\u001b[0;34m\u001b[0m\u001b[0;34m\u001b[0m\u001b[0m\n\u001b[0m\u001b[1;32m      6\u001b[0m \u001b[0mprint\u001b[0m \u001b[0;34m(\u001b[0m\u001b[0mnuevo_candidato\u001b[0m\u001b[0;34m)\u001b[0m\u001b[0;34m\u001b[0m\u001b[0;34m\u001b[0m\u001b[0m\n\u001b[1;32m      7\u001b[0m \u001b[0;31m#nuevo_candidato = scaler.transform(nuevo_candidato)\u001b[0m\u001b[0;34m\u001b[0m\u001b[0;34m\u001b[0m\u001b[0m\n",
            "\u001b[0;31mNameError\u001b[0m: name 'np' is not defined"
          ]
        }
      ],
      "source": [
        "# Realizar predicciones en nuevos datos\n",
        "\n",
        "#print(X_test)\n",
        "\n",
        "nuevo_candidato = np.array([[6, 5, 1, 0]])  # Ejemplo de nuevo candidato\n",
        "print (nuevo_candidato)\n",
        "#nuevo_candidato = scaler.transform(nuevo_candidato)\n",
        "print (nuevo_candidato)\n",
        "probabilidades = modelo.predict(nuevo_candidato)[0]\n",
        "clase_predicha = np.argmax(probabilidades) + 1  # Sumar 1 para volver a etiquetas originales (1, 2, 3)\n",
        "print(\"Las probabilidades de pertenecer a cada clase son:\")\n",
        "for i, probabilidad in enumerate(probabilidades):\n",
        "    print(f\"Clase {i + 1}: {probabilidad:.2f}\")\n",
        "print(f\"Clase predicha: {clase_predicha}\")\n"
      ]
    },
    {
      "cell_type": "markdown",
      "source": [
        "## ***Fin Seminario de Aplicación Profesional***"
      ],
      "metadata": {
        "id": "fYE6jhcV6HGW"
      }
    },
    {
      "cell_type": "markdown",
      "source": [
        "Exportar el modelo"
      ],
      "metadata": {
        "id": "VS5IScx9lgCx"
      }
    },
    {
      "cell_type": "code",
      "source": [
        "# Guardar el modelo\n",
        "modelo.save('select_candidate.h5')"
      ],
      "metadata": {
        "colab": {
          "base_uri": "https://localhost:8080/"
        },
        "id": "C95aBRPOli6q",
        "outputId": "54e6aae9-a0a8-481b-b1ea-7463c6c69958"
      },
      "execution_count": null,
      "outputs": [
        {
          "output_type": "stream",
          "name": "stderr",
          "text": [
            "/usr/local/lib/python3.10/dist-packages/keras/src/engine/training.py:3103: UserWarning: You are saving your model as an HDF5 file via `model.save()`. This file format is considered legacy. We recommend using instead the native Keras format, e.g. `model.save('my_model.keras')`.\n",
            "  saving_api.save_model(\n"
          ]
        }
      ]
    }
  ]
}